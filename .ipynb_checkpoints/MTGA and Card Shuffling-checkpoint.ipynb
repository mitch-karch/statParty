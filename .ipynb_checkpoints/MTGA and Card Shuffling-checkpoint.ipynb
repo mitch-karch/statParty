{
 "cells": [
  {
   "cell_type": "markdown",
   "metadata": {},
   "source": [
    "# Magic The Gathering: Arena and Card Shuffling"
   ]
  },
  {
   "cell_type": "markdown",
   "metadata": {},
   "source": [
    "## Premise\n",
    "\n",
    "My friend and I have been playing [Magic The Gathering: Arena](https://magic.wizards.com/en/mtgarena) which has been super great to have [someone else figure out the rules](https://xkcd.com/1566/), but i've been upset with a couple of the hands i'm drawing. In MTG, \"mana\" serves as the basic building block for the game and without it you can't do much, so it's important to be able to setup a foundation to work on top of. This is primarily done by playing \"lands\" that look like the following:\n",
    "\n",
    "<img src=\"https://img.scryfall.com/cards/large/en/rix/195.jpg?1524752819\" width=250>\n",
    "\n",
    "So you're always looking for a good balance between a strong foundation and the \"spells\" or actions to actually use the building blocks.\n",
    "\n",
    "The numbers vary but typically it's recommended to have anywhere between 18-24 land cards in your deck out of a total of 60 cards. "
   ]
  },
  {
   "cell_type": "code",
   "execution_count": 3,
   "metadata": {},
   "outputs": [],
   "source": [
    "totalCards = 60\n",
    "landCards = 20"
   ]
  },
  {
   "cell_type": "markdown",
   "metadata": {},
   "source": [
    "The issue that I ran into and would like to explore is how the cards are distributed. Let's do some math and find out some theoretical and empirical results.\n",
    "\n",
    "Let's look into the probabilities of drawing cards.\n",
    "\n",
    "If we draw a single card, the probabiltiy of getting a specific card would be $p(a) = \\frac{\\text{favorable possibility}}{\\text{all possible}}$\n",
    "\n",
    "In our case, drawing a land would be $\\frac{20}{60} = \\frac{1}{3} = 33\\%$. That's a pretty high likelihood. Let's keep moving forward. Assuming that we did in fact draw a land, the probability of the next card being a land would be $\\frac{19}{59} = 32.3\\%$. Still pretty high! This will get pretty nausiating to write out by hand, let's define a function which can give us these probabilities."
   ]
  },
  {
   "cell_type": "code",
   "execution_count": 4,
   "metadata": {},
   "outputs": [],
   "source": [
    "def singleCardDrawProbability(favorable, allPossible, cardsToDraw):\n",
    "    cardLikelihoods = []\n",
    "    for i in range(cardsToDraw):\n",
    "        cardLikelihoods.append((favorable-i)/(allPossible-i))\n",
    "    return cardLikelihoods"
   ]
  },
  {
   "cell_type": "code",
   "execution_count": 5,
   "metadata": {},
   "outputs": [
    {
     "name": "stdout",
     "output_type": "stream",
     "text": [
      "[0.3333333333333333, 0.3220338983050847, 0.3103448275862069, 0.2982456140350877, 0.2857142857142857, 0.2727272727272727, 0.25925925925925924]\n"
     ]
    }
   ],
   "source": [
    "print(singleCardDrawProbability(20,60,7))"
   ]
  },
  {
   "cell_type": "markdown",
   "metadata": {},
   "source": [
    "Let's make this look a bit nicer."
   ]
  },
  {
   "cell_type": "code",
   "execution_count": 6,
   "metadata": {},
   "outputs": [
    {
     "name": "stdout",
     "output_type": "stream",
     "text": [
      "1 draw: 33.33%\n",
      "2 draw: 32.20%\n",
      "3 draw: 31.03%\n",
      "4 draw: 29.82%\n",
      "5 draw: 28.57%\n",
      "6 draw: 27.27%\n",
      "7 draw: 25.93%\n"
     ]
    }
   ],
   "source": [
    "tempVariable = singleCardDrawProbability(20,60,7)\n",
    "for index,percentage in enumerate(tempVariable):\n",
    "    print(str(index+1)+\" draw: {:.2%}\".format(percentage))"
   ]
  },
  {
   "cell_type": "markdown",
   "metadata": {},
   "source": [
    "Numbers are hard to understand, and since we have a nice time-based data-series, let's get some graphs in here."
   ]
  },
  {
   "cell_type": "code",
   "execution_count": 43,
   "metadata": {},
   "outputs": [],
   "source": [
    "import matplotlib\n",
    "import numpy as np\n",
    "import matplotlib.pyplot as plt\n",
    "import random\n",
    "plt.rcParams['figure.figsize'] = [10, 5]\n",
    "%matplotlib inline"
   ]
  },
  {
   "cell_type": "code",
   "execution_count": 17,
   "metadata": {},
   "outputs": [
    {
     "data": {
      "image/png": "[encoded data removed]",
      "text/plain": [
       "<Figure size 432x288 with 1 Axes>"
      ]
     },
     "metadata": {
      "needs_background": "light"
     },
     "output_type": "display_data"
    }
   ],
   "source": [
    "seriesRange = np.arange(len(tempVariable))\n",
    "plt.plot(seriesRange, tempVariable)\n",
    "\n",
    "# Plot labels and formatting\n",
    "plt.title(\"Probability over time\")\n",
    "plt.xlabel('Cards Drawn')\n",
    "plt.ylabel('Probability of Land')\n",
    "plt.xlim([0,len(seriesRange)-1])\n",
    "plt.ylim([0,1])\n",
    "plt.grid(True)\n",
    "\n",
    "ax1 = plt.gca()\n",
    "vals = ax1.get_yticks()\n",
    "ax1.set_yticklabels(['{:,.0%}'.format(x) for x in vals])\n",
    "plt.show()"
   ]
  },
  {
   "cell_type": "markdown",
   "metadata": {},
   "source": [
    "So a fairly probable amount but something that definitely decreases overtime. But this is theoretical data, which gives us a sense of what *could* happen. Let's use empirical data to validate our results.\n",
    "\n",
    "To do this we're going to use a random variable, and \"mill\" (term for drawing all possible cards) ourselves and see what sort of data we get over time.\n",
    "\n",
    "To define this programatically, let's use `True` to define a land card, and `False` to define anything else."
   ]
  },
  {
   "cell_type": "code",
   "execution_count": 38,
   "metadata": {},
   "outputs": [],
   "source": [
    "boolean_deck = np.arange(totalCards) < 20"
   ]
  },
  {
   "cell_type": "markdown",
   "metadata": {},
   "source": [
    "This is a cool way of generating our \"deck\". Here we generate an array from 0 -> 60 (i.e. 0,1,2,3,...,59) then we evaluate each value if it is `< 20`. This gives us a list where 20 items are `True` and the rest are `False`"
   ]
  },
  {
   "cell_type": "code",
   "execution_count": 42,
   "metadata": {},
   "outputs": [
    {
     "name": "stdout",
     "output_type": "stream",
     "text": [
      "[ True  True  True  True  True  True  True  True  True  True  True  True\n",
      "  True  True  True  True  True  True  True  True False False False False\n",
      " False False False False False False False False False False False False\n",
      " False False False False False False False False False False False False\n",
      " False False False False False False False False False False False False]\n",
      "{False: 40, True: 20}\n"
     ]
    }
   ],
   "source": [
    "print(boolean_deck)\n",
    "unique, counts = np.unique(boolean_deck, return_counts=True)\n",
    "print(dict(zip(unique, counts)))"
   ]
  },
  {
   "cell_type": "markdown",
   "metadata": {},
   "source": [
    "There are a couple ways that we can go about \"drawing\" cards, and for the sake of this next part, we're going to shuffle the array and look at the stack of cards."
   ]
  },
  {
   "cell_type": "code",
   "execution_count": 46,
   "metadata": {},
   "outputs": [],
   "source": [
    "# Note: We want to abstract the function of shuffling so that we can change it in the future\n",
    "#       In this case, np.random.shuffle shuffles the array in place, so we don't need to return anything\n",
    "def shuffleDeck(given_deck):\n",
    "    np.random.shuffle(given_deck)"
   ]
  },
  {
   "cell_type": "code",
   "execution_count": 47,
   "metadata": {},
   "outputs": [
    {
     "name": "stdout",
     "output_type": "stream",
     "text": [
      "[False False False False  True False False  True  True  True  True False\n",
      " False  True False False False  True False  True False False False False\n",
      "  True False False False  True False False  True False False  True False\n",
      "  True  True False False  True False  True False False False False False\n",
      " False False False  True False  True False  True False  True False False]\n"
     ]
    }
   ],
   "source": [
    "shuffleDeck(boolean_deck)\n",
    "print(boolean_deck)"
   ]
  },
  {
   "cell_type": "markdown",
   "metadata": {},
   "source": [
    "That's hard to read, let's visualize it as if we were drawing cards over time."
   ]
  },
  {
   "cell_type": "code",
   "execution_count": 60,
   "metadata": {},
   "outputs": [],
   "source": [
    "def generateGraph(givenDeck):\n",
    "    rollingCount = [1 if x==True else -1 for x in givenDeck]\n",
    "    seriesRange = np.arange(len(rollingCount))\n",
    "    plt.plot(seriesRange, rollingCount, linewidth=3.0)\n",
    "\n",
    "    # Plot labels and formatting\n",
    "    plt.title(\"Probability over time\")\n",
    "    plt.xlabel('Cards Drawn')\n",
    "    plt.ylabel('Probability of Land')\n",
    "    plt.xlim([0,len(seriesRange)-1])\n",
    "    plt.ylim([-2,2])\n",
    "    plt.grid(True)"
   ]
  },
  {
   "cell_type": "code",
   "execution_count": 61,
   "metadata": {},
   "outputs": [
    {
     "data": {
      "image/png": "[encoded data removed]",
      "text/plain": [
       "<Figure size 432x288 with 1 Axes>"
      ]
     },
     "metadata": {
      "needs_background": "light"
     },
     "output_type": "display_data"
    }
   ],
   "source": [
    "generateGraph(boolean_deck)"
   ]
  },
  {
   "cell_type": "code",
   "execution_count": null,
   "metadata": {},
   "outputs": [],
   "source": []
  }
 ],
 "metadata": {
  "kernelspec": {
   "display_name": "Python 3",
   "language": "python",
   "name": "python3"
  },
  "language_info": {
   "codemirror_mode": {
    "name": "ipython",
    "version": 3
   },
   "file_extension": ".py",
   "mimetype": "text/x-python",
   "name": "python",
   "nbconvert_exporter": "python",
   "pygments_lexer": "ipython3",
   "version": "3.7.2"
  }
 },
 "nbformat": 4,
 "nbformat_minor": 2
}
